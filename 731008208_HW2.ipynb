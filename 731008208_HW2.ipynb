{
  "cells": [
    {
      "cell_type": "markdown",
      "metadata": {
        "id": "FUStugfzWud2"
      },
      "source": [
        "## CSCE 676 :: Data Mining and Analysis :: Texas A&M University :: Spring 2022\n",
        "\n",
        "\n",
        "# Homework 2\n",
        "\n",
        "- **100 points [7% of your final grade]**\n",
        "- **Due Sunday, March 6 by 11:59pm** \n",
        "- (*no submissions accepted after March 9 by 11:59pm*)\n",
        "\n",
        "**Goals of this homework:** There are four objectives of this homework: \n",
        "\n",
        "* Become familiar with Apache Spark;\n",
        "* Get hands-on experience using Spark built-in functions like PageRank;\n",
        "* Work out Hubs and Authorities by hand;\n",
        "* Try some LSH problems.\n",
        "\n",
        "*Submission instructions:* You should post your notebook to canvas (look for the homework 2 assignment there). Name your submission **your-uin_hw2.ipynb**, so for example, my submission would be something like **555001234_hw2.ipynb**. Your notebook should be fully executed when you submit ... so run all the cells for us so we can see the output, then submit that. When you are done, download your notebook from colab and submit it to canvas.\n",
        "\n",
        "*Collaboration declaration:* If you worked with someone on this homework, please be sure to mention that. Remember to include citations to any sources you use in the homework."
      ]
    },
    {
      "cell_type": "markdown",
      "metadata": {
        "id": "eql4ThhZt5lL"
      },
      "source": [
        "*Write your collaboration/references here*"
      ]
    },
    {
      "cell_type": "markdown",
      "metadata": {
        "id": "3AQt_pCoWueB"
      },
      "source": [
        "## Preliminaries: Introduction to the Dataset\n",
        "We will use a dataset of tweets concerning members of the US congress. The data spans almost a year (from October 3rd, 2018 to September 25th, 2019) covering 576 of the members. Any tweet or retweet posted by the 576 members or directed to them by other Twitter users were collected.\n",
        "\n",
        "Originally there were more than 200 million tweets collected but we have sampled 400,000 tweets for this homework.\n",
        "\n",
        "Below is a summary of all datasets used for this homework:\n",
        "\n",
        "| Dataset                        | Description |\n",
        "| :---                                                       | :---\n",
        "| Congress members               | 576 twitter ids and screen names |\n",
        "| Sample tweets                  |400k sample tweets|\n",
        "| ~~User hashtags~~                  | ~~all pairs of <user, hashtag>~~|\n",
        "| User mentions                  | all pairs of <src_user_id, src_dest_id, frequency> |\n",
        "\n"
      ]
    },
    {
      "cell_type": "markdown",
      "metadata": {
        "id": "tQ8cZb5cg5Im"
      },
      "source": [
        "Following are the steps that you need to execute to install spark. Remember you need to execute them everytime after your runtime is disconnected"
      ]
    },
    {
      "cell_type": "code",
      "execution_count": 11,
      "metadata": {
        "id": "3xiQ6bMbXITQ",
        "colab": {
          "base_uri": "https://localhost:8080/"
        },
        "outputId": "413ec6a6-a546-4e36-c858-c81e68d3381e"
      },
      "outputs": [
        {
          "output_type": "stream",
          "name": "stdout",
          "text": [
            "Collecting pyspark\n",
            "  Downloading pyspark-3.2.1.tar.gz (281.4 MB)\n",
            "\u001b[K     |████████████████████████████████| 281.4 MB 33 kB/s \n",
            "\u001b[?25hCollecting py4j==0.10.9.3\n",
            "  Downloading py4j-0.10.9.3-py2.py3-none-any.whl (198 kB)\n",
            "\u001b[K     |████████████████████████████████| 198 kB 41.0 MB/s \n",
            "\u001b[?25hBuilding wheels for collected packages: pyspark\n",
            "  Building wheel for pyspark (setup.py) ... \u001b[?25l\u001b[?25hdone\n",
            "  Created wheel for pyspark: filename=pyspark-3.2.1-py2.py3-none-any.whl size=281853642 sha256=9077e5052021b973bfeaadf42d6293962187847a31dff49bafebe44645ec237d\n",
            "  Stored in directory: /root/.cache/pip/wheels/9f/f5/07/7cd8017084dce4e93e84e92efd1e1d5334db05f2e83bcef74f\n",
            "Successfully built pyspark\n",
            "Installing collected packages: py4j, pyspark\n",
            "Successfully installed py4j-0.10.9.3 pyspark-3.2.1\n",
            "Collecting graphframes\n",
            "  Downloading graphframes-0.6-py2.py3-none-any.whl (18 kB)\n",
            "Requirement already satisfied: numpy in /usr/local/lib/python3.7/dist-packages (from graphframes) (1.21.5)\n",
            "Collecting nose\n",
            "  Downloading nose-1.3.7-py3-none-any.whl (154 kB)\n",
            "\u001b[K     |████████████████████████████████| 154 kB 47.7 MB/s \n",
            "\u001b[?25hInstalling collected packages: nose, graphframes\n",
            "Successfully installed graphframes-0.6 nose-1.3.7\n",
            "The following package was automatically installed and is no longer required:\n",
            "  libnvidia-common-470\n",
            "Use 'apt autoremove' to remove it.\n",
            "The following additional packages will be installed:\n",
            "  openjdk-8-jre-headless\n",
            "Suggested packages:\n",
            "  openjdk-8-demo openjdk-8-source libnss-mdns fonts-dejavu-extra\n",
            "  fonts-ipafont-gothic fonts-ipafont-mincho fonts-wqy-microhei\n",
            "  fonts-wqy-zenhei fonts-indic\n",
            "The following NEW packages will be installed:\n",
            "  openjdk-8-jdk-headless openjdk-8-jre-headless\n",
            "0 upgraded, 2 newly installed, 0 to remove and 39 not upgraded.\n",
            "Need to get 36.5 MB of archives.\n",
            "After this operation, 143 MB of additional disk space will be used.\n",
            "Selecting previously unselected package openjdk-8-jre-headless:amd64.\n",
            "(Reading database ... 155320 files and directories currently installed.)\n",
            "Preparing to unpack .../openjdk-8-jre-headless_8u312-b07-0ubuntu1~18.04_amd64.deb ...\n",
            "Unpacking openjdk-8-jre-headless:amd64 (8u312-b07-0ubuntu1~18.04) ...\n",
            "Selecting previously unselected package openjdk-8-jdk-headless:amd64.\n",
            "Preparing to unpack .../openjdk-8-jdk-headless_8u312-b07-0ubuntu1~18.04_amd64.deb ...\n",
            "Unpacking openjdk-8-jdk-headless:amd64 (8u312-b07-0ubuntu1~18.04) ...\n",
            "Setting up openjdk-8-jre-headless:amd64 (8u312-b07-0ubuntu1~18.04) ...\n",
            "update-alternatives: using /usr/lib/jvm/java-8-openjdk-amd64/jre/bin/orbd to provide /usr/bin/orbd (orbd) in auto mode\n",
            "update-alternatives: using /usr/lib/jvm/java-8-openjdk-amd64/jre/bin/servertool to provide /usr/bin/servertool (servertool) in auto mode\n",
            "update-alternatives: using /usr/lib/jvm/java-8-openjdk-amd64/jre/bin/tnameserv to provide /usr/bin/tnameserv (tnameserv) in auto mode\n",
            "Setting up openjdk-8-jdk-headless:amd64 (8u312-b07-0ubuntu1~18.04) ...\n",
            "update-alternatives: using /usr/lib/jvm/java-8-openjdk-amd64/bin/idlj to provide /usr/bin/idlj (idlj) in auto mode\n",
            "update-alternatives: using /usr/lib/jvm/java-8-openjdk-amd64/bin/wsimport to provide /usr/bin/wsimport (wsimport) in auto mode\n",
            "update-alternatives: using /usr/lib/jvm/java-8-openjdk-amd64/bin/jsadebugd to provide /usr/bin/jsadebugd (jsadebugd) in auto mode\n",
            "update-alternatives: using /usr/lib/jvm/java-8-openjdk-amd64/bin/native2ascii to provide /usr/bin/native2ascii (native2ascii) in auto mode\n",
            "update-alternatives: using /usr/lib/jvm/java-8-openjdk-amd64/bin/javah to provide /usr/bin/javah (javah) in auto mode\n",
            "update-alternatives: using /usr/lib/jvm/java-8-openjdk-amd64/bin/hsdb to provide /usr/bin/hsdb (hsdb) in auto mode\n",
            "update-alternatives: using /usr/lib/jvm/java-8-openjdk-amd64/bin/clhsdb to provide /usr/bin/clhsdb (clhsdb) in auto mode\n",
            "update-alternatives: using /usr/lib/jvm/java-8-openjdk-amd64/bin/xjc to provide /usr/bin/xjc (xjc) in auto mode\n",
            "update-alternatives: using /usr/lib/jvm/java-8-openjdk-amd64/bin/schemagen to provide /usr/bin/schemagen (schemagen) in auto mode\n",
            "update-alternatives: using /usr/lib/jvm/java-8-openjdk-amd64/bin/extcheck to provide /usr/bin/extcheck (extcheck) in auto mode\n",
            "update-alternatives: using /usr/lib/jvm/java-8-openjdk-amd64/bin/jhat to provide /usr/bin/jhat (jhat) in auto mode\n",
            "update-alternatives: using /usr/lib/jvm/java-8-openjdk-amd64/bin/wsgen to provide /usr/bin/wsgen (wsgen) in auto mode\n",
            "  % Total    % Received % Xferd  Average Speed   Time    Time     Time  Current\n",
            "                                 Dload  Upload   Total   Spent    Left  Speed\n",
            "100  242k  100  242k    0     0  4846k      0 --:--:-- --:--:-- --:--:-- 4846k\n"
          ]
        }
      ],
      "source": [
        "!pip install pyspark\n",
        "!pip install graphframes\n",
        "!pip install -U -q PyDrive\n",
        "!apt install openjdk-8-jdk-headless -qq\n",
        "!curl -L -o \"/usr/local/lib/python3.7/dist-packages/pyspark/jars/graphframes-0.8.1-spark3.0-s_2.12.jar\" https://repos.spark-packages.org/graphframes/graphframes/0.8.1-spark3.0-s_2.12/graphframes-0.8.1-spark3.0-s_2.12.jar\n",
        "import os\n",
        "os.environ[\"JAVA_HOME\"] = \"/usr/lib/jvm/java-8-openjdk-amd64\""
      ]
    },
    {
      "cell_type": "markdown",
      "metadata": {
        "id": "LHtukwBPl9Nv"
      },
      "source": [
        "The cell below will download the dataset from S3 to us-congress-tweets directory"
      ]
    },
    {
      "cell_type": "code",
      "execution_count": 12,
      "metadata": {
        "id": "AWGZu0fZ5Yv9",
        "colab": {
          "base_uri": "https://localhost:8080/"
        },
        "outputId": "1a165ff0-647d-4a64-9b3f-75584c330d88"
      },
      "outputs": [
        {
          "output_type": "stream",
          "name": "stdout",
          "text": [
            "--2022-03-06 22:27:27--  https://us-congress.s3.amazonaws.com/congress_members.csv\n",
            "Resolving us-congress.s3.amazonaws.com (us-congress.s3.amazonaws.com)... 3.5.2.102\n",
            "Connecting to us-congress.s3.amazonaws.com (us-congress.s3.amazonaws.com)|3.5.2.102|:443... connected.\n",
            "HTTP request sent, awaiting response... 200 OK\n",
            "Length: 13835 (14K) [text/csv]\n",
            "Saving to: ‘us-congress-tweets/congress_members.csv’\n",
            "\n",
            "\r          us-congre   0%[                    ]       0  --.-KB/s               \rus-congress-tweets/ 100%[===================>]  13.51K  --.-KB/s    in 0.002s  \n",
            "\n",
            "2022-03-06 22:27:27 (6.77 MB/s) - ‘us-congress-tweets/congress_members.csv’ saved [13835/13835]\n",
            "\n",
            "--2022-03-06 22:27:27--  https://us-congress.s3.amazonaws.com/tweets-sample-400k.json\n",
            "Resolving us-congress.s3.amazonaws.com (us-congress.s3.amazonaws.com)... 3.5.2.102\n",
            "Connecting to us-congress.s3.amazonaws.com (us-congress.s3.amazonaws.com)|3.5.2.102|:443... connected.\n",
            "HTTP request sent, awaiting response... 200 OK\n",
            "Length: 202495914 (193M) [application/json]\n",
            "Saving to: ‘us-congress-tweets/tweets-sample-400k.json’\n",
            "\n",
            "us-congress-tweets/ 100%[===================>] 193.11M  96.3MB/s    in 2.0s    \n",
            "\n",
            "2022-03-06 22:27:29 (96.3 MB/s) - ‘us-congress-tweets/tweets-sample-400k.json’ saved [202495914/202495914]\n",
            "\n",
            "--2022-03-06 22:27:29--  https://us-congress.s3.amazonaws.com/user_hashtags-1m.csv\n",
            "Resolving us-congress.s3.amazonaws.com (us-congress.s3.amazonaws.com)... 52.217.162.153\n",
            "Connecting to us-congress.s3.amazonaws.com (us-congress.s3.amazonaws.com)|52.217.162.153|:443... connected.\n",
            "HTTP request sent, awaiting response... 200 OK\n",
            "Length: 25248825 (24M) [text/csv]\n",
            "Saving to: ‘us-congress-tweets/user_hashtags-1m.csv’\n",
            "\n",
            "us-congress-tweets/ 100%[===================>]  24.08M  84.9MB/s    in 0.3s    \n",
            "\n",
            "2022-03-06 22:27:30 (84.9 MB/s) - ‘us-congress-tweets/user_hashtags-1m.csv’ saved [25248825/25248825]\n",
            "\n",
            "--2022-03-06 22:27:30--  https://us-congress.s3.amazonaws.com/user_mentions.csv\n",
            "Resolving us-congress.s3.amazonaws.com (us-congress.s3.amazonaws.com)... 52.217.89.44\n",
            "Connecting to us-congress.s3.amazonaws.com (us-congress.s3.amazonaws.com)|52.217.89.44|:443... connected.\n",
            "HTTP request sent, awaiting response... 200 OK\n",
            "Length: 56151953 (54M) [text/csv]\n",
            "Saving to: ‘us-congress-tweets/user_mentions.csv’\n",
            "\n",
            "us-congress-tweets/ 100%[===================>]  53.55M  87.0MB/s    in 0.6s    \n",
            "\n",
            "2022-03-06 22:27:30 (87.0 MB/s) - ‘us-congress-tweets/user_mentions.csv’ saved [56151953/56151953]\n",
            "\n"
          ]
        }
      ],
      "source": [
        "!mkdir us-congress-tweets\n",
        "!wget https://us-congress.s3.amazonaws.com/congress_members.csv -O us-congress-tweets/congress_members.csv\n",
        "!wget https://us-congress.s3.amazonaws.com/tweets-sample-400k.json -O us-congress-tweets/tweets-sample-400k.json\n",
        "!wget https://us-congress.s3.amazonaws.com/user_hashtags-1m.csv -O us-congress-tweets/user_hashtags-1m.csv\n",
        "!wget https://us-congress.s3.amazonaws.com/user_mentions.csv -O us-congress-tweets/user_mentions.csv"
      ]
    },
    {
      "cell_type": "code",
      "execution_count": 13,
      "metadata": {
        "id": "bWOQNZBaXPgs"
      },
      "outputs": [],
      "source": [
        "import pandas as pd\n",
        "import numpy as np\n",
        "import matplotlib.pyplot as plt\n",
        "%matplotlib inline\n",
        "\n",
        "import pyspark\n",
        "from pyspark.sql import *\n",
        "from pyspark.sql.types import *\n",
        "from pyspark import SparkContext, SparkConf"
      ]
    },
    {
      "cell_type": "code",
      "execution_count": 14,
      "metadata": {
        "id": "FG8qQdgRXViL"
      },
      "outputs": [],
      "source": [
        "# create a Spark session\n",
        "conf = SparkConf().set(\"spark.ui.port\", \"4050\")\n",
        "\n",
        "# create a Spark context\n",
        "sc = pyspark.SparkContext(conf=conf)\n",
        "spark = SparkSession.builder.getOrCreate()\n"
      ]
    },
    {
      "cell_type": "code",
      "execution_count": 15,
      "metadata": {
        "id": "h6qAn1XJWueC",
        "colab": {
          "base_uri": "https://localhost:8080/"
        },
        "outputId": "fb920e06-1f2b-4df0-f563-3328754ae5a5"
      },
      "outputs": [
        {
          "output_type": "stream",
          "name": "stdout",
          "text": [
            "+------------------+---------------+\n",
            "|            userid|    screen_name|\n",
            "+------------------+---------------+\n",
            "|         776664410|  RepCartwright|\n",
            "|         240363117|   RepTomMarino|\n",
            "|837722935095930883| RepScottTaylor|\n",
            "|        1069124515|     RepLaMalfa|\n",
            "|818460870573441028|  RepTomGarrett|\n",
            "|         163570705|     repcleaver|\n",
            "|          19739126|      GOPLeader|\n",
            "|          33563161| RepJoseSerrano|\n",
            "|        2861616083|USRepGaryPalmer|\n",
            "|        1074518754| SenatorBaldwin|\n",
            "|         305620929|  Call_Me_Dutch|\n",
            "|         381152398| RepTerriSewell|\n",
            "|         834069080| RepDavidRouzer|\n",
            "|         249787913|  SenatorCarper|\n",
            "|         188019606|        Clyburn|\n",
            "|         217543151|SenatorTimScott|\n",
            "|          39249305| USRepMikeDoyle|\n",
            "|          33537967|   amyklobuchar|\n",
            "|         249410485|  SanfordBishop|\n",
            "|          23124635|    TomColeOK04|\n",
            "+------------------+---------------+\n",
            "only showing top 20 rows\n",
            "\n",
            "Number of congress members tracked: 576\n"
          ]
        }
      ],
      "source": [
        "# First let's read Twitter ids and screen names of the 576 US congress members\n",
        "\n",
        "congress_members = spark.read.csv(\"us-congress-tweets/congress_members.csv\", header=True)\n",
        "congress_members.show()\n",
        "print(\"Number of congress members tracked:\", congress_members.count())"
      ]
    },
    {
      "cell_type": "code",
      "source": [
        "user_mentions = spark.read.csv(\"us-congress-tweets/user_mentions.csv\", header=True)\n",
        "user_mentions.show()\n",
        "#print(\"Number of congress members tracked:\", congress_members.count())"
      ],
      "metadata": {
        "colab": {
          "base_uri": "https://localhost:8080/"
        },
        "id": "yRjjNTx-eDVA",
        "outputId": "53fcf7d3-1799-4f4e-a461-95c792cbe463"
      },
      "execution_count": 16,
      "outputs": [
        {
          "output_type": "stream",
          "name": "stdout",
          "text": [
            "+------------------+------------------+-----+\n",
            "|               src|               dst|count|\n",
            "+------------------+------------------+-----+\n",
            "|917194889275699201|        1249982359|    1|\n",
            "|917570582555779072|         251918778|    1|\n",
            "|         633674091|         432895323|   48|\n",
            "|913222391416934402|         432895323|  261|\n",
            "|         217574712|          47203904|    1|\n",
            "|931278145679847424|         320757267|    1|\n",
            "|897332217646522368|          92186819|    8|\n",
            "|        2308265716|          18061669|    4|\n",
            "|822826488500088832|        1249982359|  132|\n",
            "|728645535566008320|958064770019741696|    1|\n",
            "|827323185058033665|          14247236|   11|\n",
            "|          36566383|826629809954553856|    2|\n",
            "|913125313172918272|         432895323|   90|\n",
            "|860643294367318016|         432895323|   52|\n",
            "|866790059802079234|         432895323|  148|\n",
            "|888055635828502530|          16056306|    2|\n",
            "|        3141820397|         112006107|    1|\n",
            "|836681162638532608|         262756641|    1|\n",
            "|         157952243|         102391944|    1|\n",
            "|         334871740|          16117316|   17|\n",
            "+------------------+------------------+-----+\n",
            "only showing top 20 rows\n",
            "\n"
          ]
        }
      ]
    },
    {
      "cell_type": "markdown",
      "metadata": {
        "id": "eOfjGbB6WueF"
      },
      "source": [
        "We can use `spark.read.json(...)` without schema to load the tweets into a dataframe but this will be slow for two reasons:\n",
        "* First, it will make one pass over the data to build a schema of the content, then a second pass to read the content and parse it to the dataframe. \n",
        "* It will read all the content of the Tweet JSON objects but we only need few fields for a given task.\n",
        "\n",
        "Thus we define our own schema something like the following:"
      ]
    },
    {
      "cell_type": "code",
      "execution_count": 17,
      "metadata": {
        "id": "JLBnQUluWueG"
      },
      "outputs": [],
      "source": [
        "from pyspark.sql.types import *\n",
        "import pyspark.sql.functions as F\n",
        "twitter_date_format=\"EEE MMM dd HH:mm:ss ZZZZZ yyyy\"\n",
        "\n",
        "user_schema = StructType([\n",
        "    StructField('created_at', TimestampType(), True),\n",
        "    StructField('followers_count', LongType(), True),\n",
        "    StructField('id', LongType(), True),\n",
        "    StructField('name', StringType(), True),\n",
        "    StructField('screen_name', StringType(), True)\n",
        "])\n",
        "\n",
        "hashtag_schema = ArrayType(StructType([StructField('text', StringType(), True)]))\n",
        "user_mentions_schema = ArrayType(StructType([StructField('id', LongType(), True),\n",
        "                                             StructField('screen_name', StringType(), True)]))\n",
        "entities_schema = StructType([\n",
        "    StructField('hashtags', hashtag_schema, True),\n",
        "    StructField('user_mentions', user_mentions_schema, True)\n",
        "    ])\n",
        "\n",
        "retweeted_status_schema =StructType([        \n",
        "        StructField(\"id\", LongType(), True),\n",
        "        StructField(\"in_reply_to_user_id\", LongType(), True),\n",
        "        StructField(\"in_reply_to_status_id\", LongType(), True),\n",
        "        StructField(\"created_at\", TimestampType(), True),\n",
        "        StructField(\"user\", user_schema)\n",
        "    ])\n",
        "\n",
        "tweet_schema =StructType([\n",
        "        StructField(\"text\", StringType(), True),\n",
        "        StructField(\"id\", LongType(), True),\n",
        "        StructField(\"in_reply_to_user_id\", LongType(), True),\n",
        "        StructField(\"in_reply_to_status_id\", LongType(), True),\n",
        "        StructField(\"created_at\", TimestampType(), True),\n",
        "        StructField(\"user\", user_schema),\n",
        "        StructField(\"entities\", entities_schema),\n",
        "        StructField(\"retweeted_status\", retweeted_status_schema)\n",
        "    ])"
      ]
    },
    {
      "cell_type": "markdown",
      "metadata": {
        "id": "i6xAE5NXWueH"
      },
      "source": [
        "Now we are ready to read the tweets with `spark.read.json` passing our own schema as follows:"
      ]
    },
    {
      "cell_type": "code",
      "execution_count": 18,
      "metadata": {
        "id": "QZa4FIDAWueH",
        "colab": {
          "base_uri": "https://localhost:8080/"
        },
        "outputId": "3c34bd22-d368-4bb4-e428-f1900a64d8d9"
      },
      "outputs": [
        {
          "output_type": "stream",
          "name": "stdout",
          "text": [
            "root\n",
            " |-- text: string (nullable = true)\n",
            " |-- id: long (nullable = true)\n",
            " |-- in_reply_to_user_id: long (nullable = true)\n",
            " |-- in_reply_to_status_id: long (nullable = true)\n",
            " |-- created_at: timestamp (nullable = true)\n",
            " |-- user: struct (nullable = true)\n",
            " |    |-- created_at: timestamp (nullable = true)\n",
            " |    |-- followers_count: long (nullable = true)\n",
            " |    |-- id: long (nullable = true)\n",
            " |    |-- name: string (nullable = true)\n",
            " |    |-- screen_name: string (nullable = true)\n",
            " |-- entities: struct (nullable = true)\n",
            " |    |-- hashtags: array (nullable = true)\n",
            " |    |    |-- element: struct (containsNull = true)\n",
            " |    |    |    |-- text: string (nullable = true)\n",
            " |    |-- user_mentions: array (nullable = true)\n",
            " |    |    |-- element: struct (containsNull = true)\n",
            " |    |    |    |-- id: long (nullable = true)\n",
            " |    |    |    |-- screen_name: string (nullable = true)\n",
            " |-- retweeted_status: struct (nullable = true)\n",
            " |    |-- id: long (nullable = true)\n",
            " |    |-- in_reply_to_user_id: long (nullable = true)\n",
            " |    |-- in_reply_to_status_id: long (nullable = true)\n",
            " |    |-- created_at: timestamp (nullable = true)\n",
            " |    |-- user: struct (nullable = true)\n",
            " |    |    |-- created_at: timestamp (nullable = true)\n",
            " |    |    |-- followers_count: long (nullable = true)\n",
            " |    |    |-- id: long (nullable = true)\n",
            " |    |    |-- name: string (nullable = true)\n",
            " |    |    |-- screen_name: string (nullable = true)\n",
            " |-- user_id: long (nullable = true)\n",
            "\n"
          ]
        }
      ],
      "source": [
        "tweets = spark.read.option(\"timestampFormat\", twitter_date_format)\\\n",
        "                   .json('us-congress-tweets/tweets-sample-400k.json', tweet_schema)\\\n",
        "                   .withColumn('user_id',F.col('user.id'))\n",
        "tweets.printSchema()"
      ]
    },
    {
      "cell_type": "code",
      "source": [
        "tweets.show(10)"
      ],
      "metadata": {
        "colab": {
          "base_uri": "https://localhost:8080/"
        },
        "id": "iHZJucRMr8C-",
        "outputId": "829bfb0f-97c4-44f3-ac49-0c8827f823c7"
      },
      "execution_count": 19,
      "outputs": [
        {
          "output_type": "stream",
          "name": "stdout",
          "text": [
            "+--------------------+-------------------+-------------------+---------------------+-------------------+--------------------+--------------------+--------------------+------------------+\n",
            "|                text|                 id|in_reply_to_user_id|in_reply_to_status_id|         created_at|                user|            entities|    retweeted_status|           user_id|\n",
            "+--------------------+-------------------+-------------------+---------------------+-------------------+--------------------+--------------------+--------------------+------------------+\n",
            "|RT @maddow: \"I he...|1047999818038050816|               null|                 null|2018-10-05 00:00:02|{2017-03-22 03:11...|{[], [{16129920, ...|{1047941326975766...|844386122822119424|\n",
            "|@ChuckGrassley @S...|1047999818579292160|           10615232|                 null|2018-10-05 00:00:02|{2016-01-29 01:49...|{[], [{10615232, ...|                null|        4828166688|\n",
            "|RT @cm_merlin: @f...|1048000082237247488|               null|                 null|2018-10-05 00:01:05|{2016-09-10 05:42...|{[], [{28241597, ...|{1047988201678286...|774483262693527553|\n",
            "|RT @SenJeffMerkle...|1048000473037524993|               null|                 null|2018-10-05 00:02:38|{2012-11-17 11:39...|{[], [{29201047, ...|{1047893222859534...|         953411978|\n",
            "|RT @SenJeffMerkle...|1048000484429189122|               null|                 null|2018-10-05 00:02:41|{2009-01-19 12:16...|{[], [{29201047, ...|{1047893222859534...|          19181136|\n",
            "|RT @SenDuckworth:...|1048000750700388353|               null|                 null|2018-10-05 00:03:44|{2013-08-12 15:50...|{[], [{1058520120...|{1047940472319234...|        1665358626|\n",
            "|RT @SenSchumer: A...|1048001191857332224|               null|                 null|2018-10-05 00:05:29|{2016-09-16 00:55...|{[], [{17494010, ...|{1047947859193159...|776585315796520964|\n",
            "|Kavanaugh -cry me...|1048001205253931013|               null|                 null|2018-10-05 00:05:32|{2016-07-21 03:18...|            {[], []}|                null|755965235698163712|\n",
            "|My only hope is i...|1048001311315283970|               null|                 null|2018-10-05 00:05:58|{2017-10-18 19:47...|            {[], []}|                null|920738142151434240|\n",
            "|@Cain3707 @sween0...|1048001436242665472|          248050894|  1047952882002096128|2018-10-05 00:06:27|{2014-11-21 10:15...|{[], [{248050894,...|                null|        2886735226|\n",
            "+--------------------+-------------------+-------------------+---------------------+-------------------+--------------------+--------------------+--------------------+------------------+\n",
            "only showing top 10 rows\n",
            "\n"
          ]
        }
      ]
    },
    {
      "cell_type": "markdown",
      "metadata": {
        "id": "HyAc0ou-WueI"
      },
      "source": [
        "## (30 points) Part 1: Let's Fire up Spark for Real\n",
        "\n",
        "Okay, now that we've finally got our data loaded, we are ready to get our hands dirty with Spark. As you know, Spark comes with lots of built-in functions and nice capabilities. Indeed, you will find that to answer the problems below, there are **many** possible approaches. Please refer to the Stanford Spark tutorial we posted alongside this homework. Also feel free to Google around for some Spark resources, but we list a few here to get you started:\n",
        "\n",
        "* https://spark.apache.org/docs/latest/sql-ref-functions-builtin.html#aggregate-functions\n",
        "* https://spark.apache.org/docs/latest/sql-getting-started.html#running-sql-queries-programmatically\n"
      ]
    },
    {
      "cell_type": "markdown",
      "metadata": {
        "id": "EFo2xXh1WueI"
      },
      "source": [
        "### Exploratory Data Analysis\n",
        "\n",
        "a) How many unique users are there? "
      ]
    },
    {
      "cell_type": "code",
      "execution_count": 20,
      "metadata": {
        "id": "RZJGG4bzWueK",
        "colab": {
          "base_uri": "https://localhost:8080/"
        },
        "outputId": "65163dc3-3581-4ec3-c49b-cca739cf0076"
      },
      "outputs": [
        {
          "output_type": "execute_result",
          "data": {
            "text/plain": [
              "198098"
            ]
          },
          "metadata": {},
          "execution_count": 20
        }
      ],
      "source": [
        "# your code here for unique users\n",
        "tweets.select(tweets.user.id).distinct().count() #unique users by id who tweeted"
      ]
    },
    {
      "cell_type": "code",
      "source": [
        "tweets.select(tweets.user_id).distinct().count() #unique users by id who tweeted using user_id field"
      ],
      "metadata": {
        "colab": {
          "base_uri": "https://localhost:8080/"
        },
        "id": "LoGgXbw8dB23",
        "outputId": "cbc1e5ff-b19a-4246-9f3c-22a7549ab271"
      },
      "execution_count": 21,
      "outputs": [
        {
          "output_type": "execute_result",
          "data": {
            "text/plain": [
              "198098"
            ]
          },
          "metadata": {},
          "execution_count": 21
        }
      ]
    },
    {
      "cell_type": "code",
      "source": [
        "tweets.select(tweets.retweeted_status.user.id).distinct().count() #unique users by retweeted user id, users who retweeted or were retweeted"
      ],
      "metadata": {
        "colab": {
          "base_uri": "https://localhost:8080/"
        },
        "id": "S8L557nhdIaO",
        "outputId": "355be02d-3742-4c46-98f7-e32cf306bc8c"
      },
      "execution_count": 22,
      "outputs": [
        {
          "output_type": "execute_result",
          "data": {
            "text/plain": [
              "38166"
            ]
          },
          "metadata": {},
          "execution_count": 22
        }
      ]
    },
    {
      "cell_type": "code",
      "source": [
        "tweets.filter(tweets.retweeted_status.isNull()).select(F.countDistinct(\"id\")).show() #filter out the tweets with retweeted_status as null and count those ids"
      ],
      "metadata": {
        "colab": {
          "base_uri": "https://localhost:8080/"
        },
        "id": "76d4Y9ZpX9Uf",
        "outputId": "0cbd9949-47aa-438d-d9a4-13e858989fa7"
      },
      "execution_count": 23,
      "outputs": [
        {
          "output_type": "stream",
          "name": "stdout",
          "text": [
            "+------------------+\n",
            "|count(DISTINCT id)|\n",
            "+------------------+\n",
            "|            102728|\n",
            "+------------------+\n",
            "\n"
          ]
        }
      ]
    },
    {
      "cell_type": "markdown",
      "metadata": {
        "id": "zY5_nDCCWueM"
      },
      "source": [
        "b) How many times is the user **GOPLeader** mentioned?\n"
      ]
    },
    {
      "cell_type": "code",
      "execution_count": 90,
      "metadata": {
        "id": "YrkN__kuWueM",
        "colab": {
          "base_uri": "https://localhost:8080/"
        },
        "outputId": "824a2662-e85d-45bf-c793-40db80c4dbe3"
      },
      "outputs": [
        {
          "output_type": "stream",
          "name": "stdout",
          "text": [
            "Count from unique GOPLeader mentions: 4728\n",
            "Count from total mentions for GOP_Leader: 4761\n",
            "Count from user mentions data: 52723\n"
          ]
        }
      ],
      "source": [
        "# code here\n",
        "from pyspark.sql.functions import sum as _sum\n",
        "\n",
        "gopleader_id=congress_members.filter(F.col(\"screen_name\").eqNullSafe(\"GOPLeader\")).select(\"userid\").collect()[0]['userid']\n",
        "gop_mentions_count = tweets.filter(F.array_contains(F.col('entities.user_mentions.id'), int(gopleader_id))).count() \n",
        "total_gop_count = tweets.select(F.col(\"user.screen_name\"),\n",
        "              F.explode(tweets.entities.user_mentions.screen_name).alias(\"mention\")).groupby(\"mention\").agg(F.count('mention').alias(\"count\")).filter(F.col('mention').contains(\"GOPLeader\")).collect()[0][\"count\"] #.show()\n",
        "print(\"Count from unique GOPLeader mentions:\", gop_mentions_count)\n",
        "print(\"Count from total mentions for GOP_Leader:\", total_gop_count)\n",
        "user_mention_csv_count=user_mentions.filter(F.col('dst').like(gopleader_id)).groupBy(F.col('dst')).agg(_sum(\"count\").alias(\"sum of mentions\")).collect()[0][\"sum of mentions\"] \n",
        "print(\"Count from user mentions data:\", int(user_mention_csv_count))"
      ]
    },
    {
      "cell_type": "markdown",
      "metadata": {
        "id": "BIwGhG_OWueN"
      },
      "source": [
        "c) Now find the top-5 most mentioned members of Congress."
      ]
    },
    {
      "cell_type": "code",
      "source": [
        "# code here\n",
        "\n",
        "df_explode_mention_id = tweets.select('*',F.explode(tweets.entities.user_mentions.id).alias(\"mention_id\"))\n",
        "#df_explode_mention_id.show()\n",
        "list_uid= [data[0] for data in congress_members.select('userid').collect()]\n",
        "df_filtered_uid = df_explode_mention_id.where(df_explode_mention_id.mention_id.isin(list_uid))\n",
        "#df_filtered_uid.show()"
      ],
      "metadata": {
        "id": "isQVpN0zNkkV"
      },
      "execution_count": 42,
      "outputs": []
    },
    {
      "cell_type": "code",
      "source": [
        "df_filtered_uid.groupby('mention_id').count().sort(F.desc(\"count\")).show(5)\n",
        "tempdf = df_filtered_uid.groupby('mention_id').count().sort(F.desc(\"count\"))\n",
        "tempdf.join(congress_members, congress_members.userid == tempdf.mention_id, 'inner')\\\n",
        "                                            .sort(F.col('count').desc())\\\n",
        "                                            .select('screen_name', 'count').limit(5).show()"
      ],
      "metadata": {
        "colab": {
          "base_uri": "https://localhost:8080/"
        },
        "id": "ZwSJfCn7cbda",
        "outputId": "10e1bdff-96a0-4eb7-edfc-7d31fe41b6de"
      },
      "execution_count": 39,
      "outputs": [
        {
          "output_type": "stream",
          "name": "stdout",
          "text": [
            "+----------+-----+\n",
            "|mention_id|count|\n",
            "+----------+-----+\n",
            "|  15764644|16135|\n",
            "|1249982359|15021|\n",
            "| 432895323|14412|\n",
            "|  17494010|13738|\n",
            "|  29501253|13288|\n",
            "+----------+-----+\n",
            "only showing top 5 rows\n",
            "\n",
            "+---------------+-----+\n",
            "|    screen_name|count|\n",
            "+---------------+-----+\n",
            "|    NancyPelosi|16135|\n",
            "|   senatemajldr|15021|\n",
            "|LindseyGrahamSC|14412|\n",
            "|     SenSchumer|13738|\n",
            "|  RepAdamSchiff|13288|\n",
            "+---------------+-----+\n",
            "\n"
          ]
        }
      ]
    },
    {
      "cell_type": "markdown",
      "metadata": {
        "id": "kGuKUpyqZ2ZF"
      },
      "source": [
        "d) For each month in the dataset, report the top-5 most mentioned users (across all users in the dataset, not just the members of Congress). "
      ]
    },
    {
      "cell_type": "code",
      "source": [
        "# code here\n",
        "#First approach based on only month (not considering year basically)\n",
        "\n",
        "monthly_top5_basedata=tweets.withColumn(\"month_of_tweet\",F.month(\"created_at\"))\\\n",
        "                            .withColumn(\"user_mention\",F.explode(F.col(\"entities.user_mentions\")) )\\\n",
        "                            .select(\"month_of_tweet\", \"user_mention.*\")\\\n",
        "                            .groupBy(\"month_of_tweet\",\"id\", \"screen_name\")\\\n",
        "                            .agg(F.count(\"id\").alias(\"count_of_tweets\"))\n",
        "#monthly_top5_basedata.show(2)\n",
        "\n",
        "monthly_udf_input=monthly_top5_basedata.withColumn(\"data_struct\", F.struct(\"id\", \"screen_name\", \"count_of_tweets\"))\\\n",
        "                                      .groupBy(\"month_of_tweet\").agg(F.collect_list(\"data_struct\").alias(\"monthly_data\"))\n",
        "\n",
        "def ranking(arr):\n",
        "    ranked = list(reversed(sorted(arr, key= lambda x: x['count_of_tweets'])))[0:5]\n",
        "    output = list(map(lambda x: x['screen_name'], ranked))\n",
        "    return output\n",
        "  \n",
        "rank_udf = F.udf(ranking,StringType())\n",
        "resultant_df_top5 = monthly_udf_input.select(F.col(\"month_of_tweet\"), rank_udf(F.col(\"monthly_data\")).alias(\"Top 5 Screen Names\")).sort(\"month_of_tweet\")\n",
        "resultant_df_top5.show(truncate=False)"
      ],
      "metadata": {
        "colab": {
          "base_uri": "https://localhost:8080/"
        },
        "id": "xbMsdqN66151",
        "outputId": "82a0b48c-3ce7-4151-c63e-d66e2a22c61b"
      },
      "execution_count": 81,
      "outputs": [
        {
          "output_type": "stream",
          "name": "stdout",
          "text": [
            "+--------------+-----------------------------------------------------------------------------+\n",
            "|month_of_tweet|Top 5 Screen Names                                                           |\n",
            "+--------------+-----------------------------------------------------------------------------+\n",
            "|1             |[realDonaldTrump, SpeakerPelosi, SenSchumer, senatemajldr, LindseyGrahamSC]  |\n",
            "|2             |[marcorubio, realDonaldTrump, RepAdamSchiff, SpeakerPelosi, SenSanders]      |\n",
            "|3             |[RepAdamSchiff, realDonaldTrump, LindseyGrahamSC, marcorubio, SpeakerPelosi] |\n",
            "|4             |[RepAdamSchiff, realDonaldTrump, SpeakerPelosi, SenSchumer, RepJerryNadler]  |\n",
            "|5             |[LindseyGrahamSC, realDonaldTrump, SpeakerPelosi, RepAdamSchiff, justinamash]|\n",
            "|6             |[realDonaldTrump, SenSchumer, senatemajldr, LindseyGrahamSC, SpeakerPelosi]  |\n",
            "|7             |[realDonaldTrump, RepCummings, senatemajldr, SpeakerPelosi, SenSchumer]      |\n",
            "|8             |[senatemajldr, realDonaldTrump, LindseyGrahamSC, SenSchumer, RepAdamSchiff]  |\n",
            "|9             |[realDonaldTrump, senatemajldr, SpeakerPelosi, RepAdamSchiff, Jim_Jordan]    |\n",
            "|10            |[SenatorCollins, JeffFlake, LindseyGrahamSC, realDonaldTrump, lisamurkowski] |\n",
            "|11            |[realDonaldTrump, marcorubio, RepSwalwell, NancyPelosi, LindseyGrahamSC]     |\n",
            "|12            |[realDonaldTrump, NancyPelosi, SenSchumer, LindseyGrahamSC, senatemajldr]    |\n",
            "+--------------+-----------------------------------------------------------------------------+\n",
            "\n"
          ]
        }
      ]
    },
    {
      "cell_type": "code",
      "source": [
        "#Second approach based on ranking in both month and year\n",
        "\n",
        "tweets_month_year = tweets.withColumn('created_at_month', F.month(tweets.created_at)).withColumn('created_at_year', F.year(tweets.created_at))\n",
        "tweets_month_year_exploded = tweets_month_year.select('created_at_month', 'created_at_year', F.explode(tweets.entities.user_mentions.screen_name).alias('user_mentions_screen_name'))\n",
        "tweets_month_year_exploded_agg = tweets_month_year_exploded.groupby('created_at_month', 'created_at_year', 'user_mentions_screen_name')\\\n",
        "                                                                  .agg({'user_mentions_screen_name': 'count'}).select('*', F.col('count(user_mentions_screen_name)').alias('mention_count'))\\\n",
        "                                                                  .select('user_mentions_screen_name', 'mention_count', F.concat(F.col('created_at_month'), F.lit('-'), F.col('created_at_year')).alias('month_year'))"
      ],
      "metadata": {
        "id": "uL5FnAR4bnB3"
      },
      "execution_count": 50,
      "outputs": []
    },
    {
      "cell_type": "code",
      "source": [
        "print('Top 5 most mentioned users of each month is shown in month-year format as follows:')\n",
        "window_month_year = Window.partitionBy(tweets_month_year_exploded_agg['month_year']).orderBy(tweets_month_year_exploded_agg['mention_count'].desc())\n",
        "tweets_month_year_exploded_agg_top5 = tweets_month_year_exploded_agg.select('*', F.rank().over(window_month_year).alias('rank_within_month_year'))\\\n",
        "                                      .filter(F.col('rank_within_month_year') <= 5)\n",
        "tweets_month_year_exploded_agg_top5.show(60)"
      ],
      "metadata": {
        "colab": {
          "base_uri": "https://localhost:8080/"
        },
        "id": "KzOmhw2DdfZH",
        "outputId": "e97173c3-6695-48bd-9549-aa2e82e841cb"
      },
      "execution_count": 51,
      "outputs": [
        {
          "output_type": "stream",
          "name": "stdout",
          "text": [
            "Top 5 most mentioned users of each month is shown in month-year format as follows:\n",
            "+-------------------------+-------------+----------+----------------------+\n",
            "|user_mentions_screen_name|mention_count|month_year|rank_within_month_year|\n",
            "+-------------------------+-------------+----------+----------------------+\n",
            "|          realDonaldTrump|         4154|    1-2019|                     1|\n",
            "|            SpeakerPelosi|         3318|    1-2019|                     2|\n",
            "|               SenSchumer|         2797|    1-2019|                     3|\n",
            "|             senatemajldr|         2577|    1-2019|                     4|\n",
            "|          LindseyGrahamSC|         1818|    1-2019|                     5|\n",
            "|          realDonaldTrump|         1797|   11-2018|                     1|\n",
            "|               marcorubio|         1258|   11-2018|                     2|\n",
            "|              RepSwalwell|         1081|   11-2018|                     3|\n",
            "|              NancyPelosi|         1035|   11-2018|                     4|\n",
            "|          LindseyGrahamSC|         1004|   11-2018|                     5|\n",
            "|               marcorubio|         1883|    2-2019|                     1|\n",
            "|          realDonaldTrump|         1807|    2-2019|                     2|\n",
            "|            RepAdamSchiff|         1172|    2-2019|                     3|\n",
            "|            SpeakerPelosi|         1141|    2-2019|                     4|\n",
            "|               SenSanders|         1083|    2-2019|                     5|\n",
            "|            RepAdamSchiff|         1843|    4-2019|                     1|\n",
            "|          realDonaldTrump|         1410|    4-2019|                     2|\n",
            "|            SpeakerPelosi|         1206|    4-2019|                     3|\n",
            "|               SenSchumer|          967|    4-2019|                     4|\n",
            "|           RepJerryNadler|          924|    4-2019|                     5|\n",
            "|          LindseyGrahamSC|         1945|    5-2019|                     1|\n",
            "|          realDonaldTrump|         1812|    5-2019|                     2|\n",
            "|            SpeakerPelosi|         1481|    5-2019|                     3|\n",
            "|            RepAdamSchiff|         1459|    5-2019|                     4|\n",
            "|              justinamash|         1342|    5-2019|                     5|\n",
            "|           SenatorCollins|         3008|   10-2018|                     1|\n",
            "|                JeffFlake|         1639|   10-2018|                     2|\n",
            "|          LindseyGrahamSC|         1560|   10-2018|                     3|\n",
            "|          realDonaldTrump|         1500|   10-2018|                     4|\n",
            "|            lisamurkowski|         1432|   10-2018|                     5|\n",
            "|          realDonaldTrump|         1895|   12-2018|                     1|\n",
            "|              NancyPelosi|         1724|   12-2018|                     2|\n",
            "|               SenSchumer|         1649|   12-2018|                     3|\n",
            "|          LindseyGrahamSC|          999|   12-2018|                     4|\n",
            "|             senatemajldr|          639|   12-2018|                     5|\n",
            "|            RepAdamSchiff|         2301|    3-2019|                     1|\n",
            "|          realDonaldTrump|         1906|    3-2019|                     2|\n",
            "|          LindseyGrahamSC|         1570|    3-2019|                     3|\n",
            "|               marcorubio|         1494|    3-2019|                     4|\n",
            "|            SpeakerPelosi|         1120|    3-2019|                     5|\n",
            "|          realDonaldTrump|         1493|    6-2019|                     1|\n",
            "|               SenSchumer|         1158|    6-2019|                     2|\n",
            "|             senatemajldr|         1008|    6-2019|                     3|\n",
            "|          LindseyGrahamSC|          966|    6-2019|                     4|\n",
            "|            SpeakerPelosi|          906|    6-2019|                     5|\n",
            "|          realDonaldTrump|         3601|    7-2019|                     1|\n",
            "|              RepCummings|         2213|    7-2019|                     2|\n",
            "|             senatemajldr|         1863|    7-2019|                     3|\n",
            "|            SpeakerPelosi|         1767|    7-2019|                     4|\n",
            "|               SenSchumer|         1710|    7-2019|                     5|\n",
            "|             senatemajldr|         2446|    8-2019|                     1|\n",
            "|          realDonaldTrump|         1767|    8-2019|                     2|\n",
            "|          LindseyGrahamSC|          836|    8-2019|                     3|\n",
            "|               SenSchumer|          754|    8-2019|                     4|\n",
            "|            RepAdamSchiff|          735|    8-2019|                     5|\n",
            "|          realDonaldTrump|         1380|    9-2019|                     1|\n",
            "|             senatemajldr|         1050|    9-2019|                     2|\n",
            "|            SpeakerPelosi|          825|    9-2019|                     3|\n",
            "|            RepAdamSchiff|          720|    9-2019|                     4|\n",
            "|               Jim_Jordan|          624|    9-2019|                     5|\n",
            "+-------------------------+-------------+----------+----------------------+\n",
            "\n"
          ]
        }
      ]
    },
    {
      "cell_type": "code",
      "source": [
        "print('Number of months where the top 5 were mentioned in:')\n",
        "tweets_month_year_exploded_agg_top5.select('user_mentions_screen_name').groupby('user_mentions_screen_name').count().sort(F.col('count').desc()).show(20)\n",
        "print('Top mentions persisting their ranks in different months:')\n",
        "tweets_month_year_exploded_agg_top5.groupby('user_mentions_screen_name', 'rank_within_month_year').count().sort(F.col('count').alias('continued_rank_count').desc()).show(20)"
      ],
      "metadata": {
        "colab": {
          "base_uri": "https://localhost:8080/"
        },
        "id": "9M9zHXtsbxDn",
        "outputId": "19b20481-e8af-4764-c1ad-5ba729bf33da"
      },
      "execution_count": 76,
      "outputs": [
        {
          "output_type": "stream",
          "name": "stdout",
          "text": [
            "Number of months where the top 5 were mentioned in:\n",
            "+-------------------------+-----+\n",
            "|user_mentions_screen_name|count|\n",
            "+-------------------------+-----+\n",
            "|          realDonaldTrump|   12|\n",
            "|            SpeakerPelosi|    8|\n",
            "|          LindseyGrahamSC|    8|\n",
            "|               SenSchumer|    6|\n",
            "|             senatemajldr|    6|\n",
            "|            RepAdamSchiff|    6|\n",
            "|               marcorubio|    3|\n",
            "|              NancyPelosi|    2|\n",
            "|           RepJerryNadler|    1|\n",
            "|              RepSwalwell|    1|\n",
            "|               SenSanders|    1|\n",
            "|           SenatorCollins|    1|\n",
            "|              justinamash|    1|\n",
            "|                JeffFlake|    1|\n",
            "|            lisamurkowski|    1|\n",
            "|              RepCummings|    1|\n",
            "|               Jim_Jordan|    1|\n",
            "+-------------------------+-----+\n",
            "\n",
            "Top mentions persisting their ranks in different months:\n",
            "+-------------------------+----------------------+-----+\n",
            "|user_mentions_screen_name|rank_within_month_year|count|\n",
            "+-------------------------+----------------------+-----+\n",
            "|          realDonaldTrump|                     1|    6|\n",
            "|          realDonaldTrump|                     2|    5|\n",
            "|            SpeakerPelosi|                     3|    3|\n",
            "|          LindseyGrahamSC|                     3|    3|\n",
            "|          LindseyGrahamSC|                     4|    2|\n",
            "|               SenSchumer|                     3|    2|\n",
            "|            RepAdamSchiff|                     4|    2|\n",
            "|            SpeakerPelosi|                     5|    2|\n",
            "|             senatemajldr|                     3|    2|\n",
            "|            SpeakerPelosi|                     4|    2|\n",
            "|            RepAdamSchiff|                     1|    2|\n",
            "|               SenSchumer|                     4|    2|\n",
            "|          LindseyGrahamSC|                     5|    2|\n",
            "|             senatemajldr|                     4|    1|\n",
            "|            RepAdamSchiff|                     3|    1|\n",
            "|               SenSanders|                     5|    1|\n",
            "|           RepJerryNadler|                     5|    1|\n",
            "|              justinamash|                     5|    1|\n",
            "|          LindseyGrahamSC|                     1|    1|\n",
            "|              NancyPelosi|                     4|    1|\n",
            "+-------------------------+----------------------+-----+\n",
            "only showing top 20 rows\n",
            "\n"
          ]
        }
      ]
    },
    {
      "cell_type": "markdown",
      "metadata": {
        "id": "51iGNYmNaUW1"
      },
      "source": [
        "e) Do you notice anything interesting in your monthly analysis?"
      ]
    },
    {
      "cell_type": "markdown",
      "metadata": {
        "id": "jSYkjX5QaYIf"
      },
      "source": [
        "Top 5 mentioned users each month lets us know the entities people reach out to or mention in their tweets. Using the further processing/aggregation and other results we can say:\n",
        "- From the first approach we can see that realDonaldTrump was leading in 6 months irrespective of year and in top 5 in almost all months\n",
        "- President of United States during the period 2018 to 2019 is mentioned in all the months followed by Speaker Pelosi and Lindsey Graham.\n",
        "- realDonaldTrump ranks 1st or 2nd in almost all months which doesn't follow continued ranking that's tried to be shown."
      ]
    },
    {
      "cell_type": "markdown",
      "metadata": {
        "id": "Ha2vrLOmWueh"
      },
      "source": [
        "## (25 points) Part 2: PageRank\n",
        "Now let's find out who are the most important users in the dataset by running PageRank over the mentions network. For this problem, we'll define a user-mentions network using relations in `us-congress-tweets/user_mentions.csv`. That is, each user is a node in the graph. If user A mentions user B, then there should be an edge from A to B.\n",
        "\n",
        "Hint:\n",
        "* Take a look at GraphFrames: https://graphframes.github.io/graphframes/docs/_site/user-guide.html\n"
      ]
    },
    {
      "cell_type": "code",
      "source": [
        "from graphframes import *"
      ],
      "metadata": {
        "id": "ye5tp_WRy69v"
      },
      "execution_count": 55,
      "outputs": []
    },
    {
      "cell_type": "code",
      "execution_count": 56,
      "metadata": {
        "id": "c1HwmZJCWueh",
        "colab": {
          "base_uri": "https://localhost:8080/"
        },
        "outputId": "aea6e5fa-b42b-45a8-999b-3da663ed4bde"
      },
      "outputs": [
        {
          "output_type": "stream",
          "name": "stdout",
          "text": [
            "+------------------+------------------+-----+\n",
            "|               src|               dst|count|\n",
            "+------------------+------------------+-----+\n",
            "|917194889275699201|        1249982359|    1|\n",
            "|917570582555779072|         251918778|    1|\n",
            "|         633674091|         432895323|   48|\n",
            "|913222391416934402|         432895323|  261|\n",
            "|         217574712|          47203904|    1|\n",
            "|931278145679847424|         320757267|    1|\n",
            "|897332217646522368|          92186819|    8|\n",
            "|        2308265716|          18061669|    4|\n",
            "|822826488500088832|        1249982359|  132|\n",
            "|728645535566008320|958064770019741696|    1|\n",
            "|827323185058033665|          14247236|   11|\n",
            "|          36566383|826629809954553856|    2|\n",
            "|913125313172918272|         432895323|   90|\n",
            "|860643294367318016|         432895323|   52|\n",
            "|866790059802079234|         432895323|  148|\n",
            "|888055635828502530|          16056306|    2|\n",
            "|        3141820397|         112006107|    1|\n",
            "|836681162638532608|         262756641|    1|\n",
            "|         157952243|         102391944|    1|\n",
            "|         334871740|          16117316|   17|\n",
            "+------------------+------------------+-----+\n",
            "only showing top 20 rows\n",
            "\n"
          ]
        }
      ],
      "source": [
        "# your network construction code here\n",
        "user_mentions.show()\n",
        "vertices = user_mentions.select('src').union(user_mentions.select('dst')).dropDuplicates().withColumnRenamed('src', 'id')\n",
        "edges = user_mentions"
      ]
    },
    {
      "cell_type": "code",
      "source": [
        "#create graphframe/network\n",
        "\n",
        "g = GraphFrame(vertices, edges)"
      ],
      "metadata": {
        "id": "mJGoebcvyxfz"
      },
      "execution_count": 57,
      "outputs": []
    },
    {
      "cell_type": "code",
      "source": [
        "g.inDegrees.show(5)"
      ],
      "metadata": {
        "colab": {
          "base_uri": "https://localhost:8080/"
        },
        "id": "KOUhH-LLzKah",
        "outputId": "5866df3d-628c-4ac0-c229-c84089cb8996"
      },
      "execution_count": 58,
      "outputs": [
        {
          "output_type": "stream",
          "name": "stdout",
          "text": [
            "+------------------+--------+\n",
            "|                id|inDegree|\n",
            "+------------------+--------+\n",
            "|          92186819|    3733|\n",
            "|          76184375|     136|\n",
            "|          84406725|     254|\n",
            "|836628255222427648|       1|\n",
            "|           7702542|    1000|\n",
            "+------------------+--------+\n",
            "only showing top 5 rows\n",
            "\n"
          ]
        }
      ]
    },
    {
      "cell_type": "markdown",
      "metadata": {
        "id": "Jg0R72ymwiyK"
      },
      "source": [
        "How many vertices are there in your network? And how many edges?"
      ]
    },
    {
      "cell_type": "code",
      "execution_count": 59,
      "metadata": {
        "id": "Z0_aNONPwotS",
        "colab": {
          "base_uri": "https://localhost:8080/"
        },
        "outputId": "0449fbd5-1fce-4136-91ff-b859492dc0db"
      },
      "outputs": [
        {
          "output_type": "stream",
          "name": "stdout",
          "text": [
            "Number of vertices:  1133350\n",
            "Number of edges:  2064872\n"
          ]
        }
      ],
      "source": [
        "# your code\n",
        "print(\"Number of vertices: \",g.vertices.count())\n",
        "print(\"Number of edges: \",g.edges.count())"
      ]
    },
    {
      "cell_type": "markdown",
      "metadata": {
        "id": "_WMaKjp5Zlb8"
      },
      "source": [
        "Now you can run PageRank on the constructed network. Feel free to use the implementation provided as part of GraphFrames. Use a reset (or teleportation probability) of 0.15. "
      ]
    },
    {
      "cell_type": "code",
      "execution_count": 60,
      "metadata": {
        "id": "YHgs08vfWuei",
        "colab": {
          "base_uri": "https://localhost:8080/"
        },
        "outputId": "6d5d88fd-891e-48c4-96b9-7a6202f654f7"
      },
      "outputs": [
        {
          "output_type": "stream",
          "name": "stdout",
          "text": [
            "+-------------------+-------------------+\n",
            "|                 id|           pagerank|\n",
            "+-------------------+-------------------+\n",
            "|1000463993499156481|  0.370078375544821|\n",
            "|1000785956298018817|  0.370078375544821|\n",
            "|1001877127115915264|0.49522583964215494|\n",
            "|1001901894720077824|  0.370078375544821|\n",
            "|1001918958851710976|  0.370078375544821|\n",
            "|1002162546978250752|  0.370078375544821|\n",
            "|1002338860162936832| 1.2670050965419668|\n",
            "|          100414318|  0.370078375544821|\n",
            "|1004461220013989888|  0.370078375544821|\n",
            "|1004865478274244610|0.48186169636776066|\n",
            "|         1005081223|  0.370078375544821|\n",
            "|1005181791336984576|  0.370078375544821|\n",
            "|         1005243704|  0.370078375544821|\n",
            "|1005412271437369344|  0.370078375544821|\n",
            "|1005586535436226561|  0.370078375544821|\n",
            "|1006046436272713728|  0.370078375544821|\n",
            "|1006268755058577408|  0.370078375544821|\n",
            "|1006942052104527872|  0.370078375544821|\n",
            "|1006962721387147264|  0.370078375544821|\n",
            "|         1007942148|  0.370078375544821|\n",
            "+-------------------+-------------------+\n",
            "only showing top 20 rows\n",
            "\n",
            "+-------------------+-------------------+------------------+\n",
            "|                src|                dst|            weight|\n",
            "+-------------------+-------------------+------------------+\n",
            "|1000785956298018817|         3106279168|               0.5|\n",
            "|1001114478262542336|1060191779616710657|               1.0|\n",
            "|          100136328|          216881337|               0.5|\n",
            "|1001901894720077824|          949934436|               1.0|\n",
            "|1002338860162936832| 757078971590651904|0.3333333333333333|\n",
            "|1002752931341299712|           72631996|0.1111111111111111|\n",
            "|1002752931341299712|          476416920|0.1111111111111111|\n",
            "|1002752931341299712| 820044877211779077|0.1111111111111111|\n",
            "|1002752931341299712|         1048784496|0.1111111111111111|\n",
            "|1003038552458973189|           25073877|               1.0|\n",
            "|1003231727643496448|           50915886|0.3333333333333333|\n",
            "|1003231727643496448|           40302336|0.3333333333333333|\n",
            "|         1003846200|           29041139|               1.0|\n",
            "|          100414318|           24742301|               0.5|\n",
            "|          100414318|          476256944|               0.5|\n",
            "|1004834142469664768|1019729716796895232|               1.0|\n",
            "|1004865478274244610|           18061669|              0.25|\n",
            "|1004865478274244610|          165904143|              0.25|\n",
            "|1004963075785515011|           25073877|               1.0|\n",
            "|         1005081223|           22508473|               1.0|\n",
            "+-------------------+-------------------+------------------+\n",
            "only showing top 20 rows\n",
            "\n"
          ]
        }
      ],
      "source": [
        "# your PageRank code here (should be pretty short since you're just calling a function)\n",
        "results = g.pageRank(resetProbability=0.15, maxIter=5)\n",
        "\n",
        "results.vertices.select(\"id\", \"pagerank\").show()\n",
        "results.edges.select(\"src\", \"dst\", \"weight\").show()"
      ]
    },
    {
      "cell_type": "code",
      "source": [
        "results_4iter = g.pageRank(resetProbability=0.15, maxIter=4)\n",
        "\n",
        "results_4iter.vertices.select(\"id\", \"pagerank\").show()\n",
        "results_4iter.edges.select(\"src\", \"dst\", \"weight\").show()"
      ],
      "metadata": {
        "colab": {
          "base_uri": "https://localhost:8080/"
        },
        "id": "d5aHcyeElumn",
        "outputId": "578798e2-63f3-4545-f1e6-9d9a45ba6e21"
      },
      "execution_count": 61,
      "outputs": [
        {
          "output_type": "stream",
          "name": "stdout",
          "text": [
            "+-------------------+-------------------+\n",
            "|                 id|           pagerank|\n",
            "+-------------------+-------------------+\n",
            "|1000463993499156481|0.34116146737305353|\n",
            "|1000785956298018817|0.34116146737305353|\n",
            "|1001877127115915264|0.47749641236212276|\n",
            "|1001901894720077824|0.34116146737305353|\n",
            "|1001918958851710976|0.34116146737305353|\n",
            "|1002162546978250752|0.34116146737305353|\n",
            "|1002338860162936832|  1.431206369967797|\n",
            "|          100414318|0.34116146737305353|\n",
            "|1004461220013989888|0.34116146737305353|\n",
            "|1004865478274244610| 0.4562668855697758|\n",
            "|         1005081223|0.34116146737305353|\n",
            "|1005181791336984576|0.34116146737305353|\n",
            "|         1005243704|0.34116146737305353|\n",
            "|1005412271437369344|0.34116146737305353|\n",
            "|1005586535436226561|0.34116146737305353|\n",
            "|1006046436272713728|0.34116146737305353|\n",
            "|1006268755058577408|0.34116146737305353|\n",
            "|1006942052104527872|0.34116146737305353|\n",
            "|1006962721387147264|0.34116146737305353|\n",
            "|         1007942148|0.34116146737305353|\n",
            "+-------------------+-------------------+\n",
            "only showing top 20 rows\n",
            "\n",
            "+-------------------+-------------------+------------------+\n",
            "|                src|                dst|            weight|\n",
            "+-------------------+-------------------+------------------+\n",
            "|1000785956298018817|         3106279168|               0.5|\n",
            "|1001114478262542336|1060191779616710657|               1.0|\n",
            "|          100136328|          216881337|               0.5|\n",
            "|1001901894720077824|          949934436|               1.0|\n",
            "|1002338860162936832| 757078971590651904|0.3333333333333333|\n",
            "|1002752931341299712|           72631996|0.1111111111111111|\n",
            "|1002752931341299712|          476416920|0.1111111111111111|\n",
            "|1002752931341299712| 820044877211779077|0.1111111111111111|\n",
            "|1002752931341299712|         1048784496|0.1111111111111111|\n",
            "|1003038552458973189|           25073877|               1.0|\n",
            "|1003231727643496448|           50915886|0.3333333333333333|\n",
            "|1003231727643496448|           40302336|0.3333333333333333|\n",
            "|         1003846200|           29041139|               1.0|\n",
            "|          100414318|           24742301|               0.5|\n",
            "|          100414318|          476256944|               0.5|\n",
            "|1004834142469664768|1019729716796895232|               1.0|\n",
            "|1004865478274244610|           18061669|              0.25|\n",
            "|1004865478274244610|          165904143|              0.25|\n",
            "|1004963075785515011|           25073877|               1.0|\n",
            "|         1005081223|           22508473|               1.0|\n",
            "+-------------------+-------------------+------------------+\n",
            "only showing top 20 rows\n",
            "\n"
          ]
        }
      ]
    },
    {
      "cell_type": "code",
      "source": [
        "top10_MI5 = results.vertices.select(\"id\", \"pagerank\").sort(F.col(\"pagerank\").desc()) #.show(10)\n",
        "top10_MI4 = results_4iter.vertices.select(\"id\", \"pagerank\").sort(F.col(\"pagerank\").desc()) #.show(10)\n",
        "\n",
        "#top10_MI4.show(10)\n",
        "#top10_MI5.show(10)"
      ],
      "metadata": {
        "colab": {
          "base_uri": "https://localhost:8080/"
        },
        "id": "NrUUBdFZstIJ",
        "outputId": "560dab74-fcea-4599-92ec-bbcd35de8b84"
      },
      "execution_count": 62,
      "outputs": [
        {
          "output_type": "stream",
          "name": "stdout",
          "text": [
            "+------------------+------------------+\n",
            "|                id|          pagerank|\n",
            "+------------------+------------------+\n",
            "|        1249982359| 7568.352824303757|\n",
            "|          25073877| 7187.506760989088|\n",
            "|         278145569| 6486.617554042715|\n",
            "|         240393970|  6007.09310778312|\n",
            "|          15764644| 5303.102171147152|\n",
            "|         242426145|4885.1692649574115|\n",
            "|          15808765| 4761.687265993736|\n",
            "|822215679726100480| 4676.949201920217|\n",
            "|          17494010| 4671.003122618746|\n",
            "|         242555999| 4571.108891587266|\n",
            "+------------------+------------------+\n",
            "only showing top 10 rows\n",
            "\n",
            "+------------------+-----------------+\n",
            "|                id|         pagerank|\n",
            "+------------------+-----------------+\n",
            "|         240393970|7036.967000240482|\n",
            "|          25073877|6701.685539517161|\n",
            "|822215679726100480|6284.148813341785|\n",
            "|        4924463189|5981.435708340409|\n",
            "|        1249982359|5587.588320042423|\n",
            "|          15764644|5061.313584770873|\n",
            "|         242555999|4998.188411171005|\n",
            "|          15808765|4698.204423833516|\n",
            "|          29442313|4406.403704515815|\n",
            "|          17494010|4387.808250973902|\n",
            "+------------------+-----------------+\n",
            "only showing top 10 rows\n",
            "\n"
          ]
        }
      ]
    },
    {
      "cell_type": "markdown",
      "metadata": {
        "id": "XeWYZx8RZz9n"
      },
      "source": [
        "OK, let's see what we found. List the top-10 users based on the PageRank values calculated above."
      ]
    },
    {
      "cell_type": "code",
      "execution_count": 74,
      "metadata": {
        "id": "SMtXqwdDcS0V",
        "colab": {
          "base_uri": "https://localhost:8080/"
        },
        "outputId": "53bbcb89-a74f-4c66-c22d-d5bbb15d8538"
      },
      "outputs": [
        {
          "output_type": "stream",
          "name": "stdout",
          "text": [
            "Users set 1:\n",
            "+------------------+------------------+\n",
            "|                id|          pagerank|\n",
            "+------------------+------------------+\n",
            "|        1249982359| 7568.352824303757|\n",
            "|          25073877| 7187.506760989088|\n",
            "|         278145569| 6486.617554042715|\n",
            "|         240393970|  6007.09310778312|\n",
            "|          15764644| 5303.102171147152|\n",
            "|         242426145|4885.1692649574115|\n",
            "|          15808765| 4761.687265993736|\n",
            "|822215679726100480| 4676.949201920217|\n",
            "|          17494010| 4671.003122618746|\n",
            "|         242555999| 4571.108891587266|\n",
            "+------------------+------------------+\n",
            "only showing top 10 rows\n",
            "\n",
            "Users set 2:\n",
            "+------------------+-----------------+\n",
            "|                id|         pagerank|\n",
            "+------------------+-----------------+\n",
            "|         240393970|7036.967000240482|\n",
            "|          25073877|6701.685539517161|\n",
            "|822215679726100480|6284.148813341785|\n",
            "|        4924463189|5981.435708340409|\n",
            "|        1249982359|5587.588320042423|\n",
            "|          15764644|5061.313584770873|\n",
            "|         242555999|4998.188411171005|\n",
            "|          15808765|4698.204423833516|\n",
            "|          29442313|4406.403704515815|\n",
            "|          17494010|4387.808250973902|\n",
            "+------------------+-----------------+\n",
            "only showing top 10 rows\n",
            "\n"
          ]
        }
      ],
      "source": [
        "# Top 10 accounts \n",
        "print(\"Users set 1:\")\n",
        "top10_MI4.show(10)\n",
        "print(\"Users set 2:\")\n",
        "top10_MI5.show(10)"
      ]
    },
    {
      "cell_type": "markdown",
      "metadata": {
        "id": "ZuX2j4A-aFvz"
      },
      "source": [
        "What do you observe? are the top 10 users congress members? are there outsiders?\n",
        "\n",
        "Hint: You can use https://twitter.com/intent/user?user_id=? to find out more info about the users"
      ]
    },
    {
      "cell_type": "markdown",
      "metadata": {
        "id": "DN7PbajvzOea"
      },
      "source": [
        "Not all top users are congress members with presence of some outsiders/outisde groups which can be seen and using hint link to analyse more currently about users:\n",
        "\n",
        "- 3rd user - President Trump 45 Archived - The President is not a part of the congress but plays a major role hence its listing is understood.\n",
        "- 4th user - CelebrateMemphs - It's an international festival and not much idea on why its being mentioned that frequently (or many places)\n",
        "- 2nd user - 25073877 - 404 user not found - The user has possibly deleted their twitter handle and is not accessible now."
      ]
    },
    {
      "cell_type": "markdown",
      "metadata": {
        "id": "NUcdJqltBYyf"
      },
      "source": [
        "## (5 points) Bonus Question (Optional)\n",
        "Until now you have explored different aspects of Spark to investigate tweets by the US Congress. For this (optional) bonus problem, please conduct your own investigation of the data. You can use any combinations of the data files to carry out your investigation. You may use any libraries in Spark that you like, but you must use Spark. Tell us what question motivates you, what you did, what you discovered, and why it is interesting. This is completely open-ended, but we are looking for compelling questions and insights. Good luck!\n",
        "\n"
      ]
    },
    {
      "cell_type": "markdown",
      "metadata": {
        "id": "w0DTKHMRDlkt"
      },
      "source": [
        "Feel free to add any number of code/text cells here for your answer!\n"
      ]
    },
    {
      "cell_type": "code",
      "execution_count": 67,
      "metadata": {
        "id": "uK7_5Q-4Djg1",
        "colab": {
          "base_uri": "https://localhost:8080/"
        },
        "outputId": "5d302ba1-8591-4f4c-c817-bad2c4b0b74f"
      },
      "outputs": [
        {
          "output_type": "stream",
          "name": "stdout",
          "text": [
            "+-------------+-----+\n",
            "|      hashtag|count|\n",
            "+-------------+-----+\n",
            "|    Venezuela| 1224|\n",
            "|  MoscowMitch| 1123|\n",
            "|TrumpShutdown|  705|\n",
            "|         MAGA|  535|\n",
            "|MuellerReport|  396|\n",
            "|  NancyPelosi|  349|\n",
            "| MaduroRegime|  347|\n",
            "|        Trump|  338|\n",
            "| BuildTheWall|  333|\n",
            "| GreenNewDeal|  297|\n",
            "|    Kavanaugh|  292|\n",
            "|     BREAKING|  277|\n",
            "| ForThePeople|  224|\n",
            "|       Maduro|  224|\n",
            "|    Democrats|  194|\n",
            "| DoWhatWeSaid|  179|\n",
            "|      Mueller|  174|\n",
            "|         SOTU|  173|\n",
            "|          GOP|  171|\n",
            "|          HR1|  168|\n",
            "+-------------+-----+\n",
            "only showing top 20 rows\n",
            "\n"
          ]
        }
      ],
      "source": [
        "# top hashtags in the tweets since that give us insight into the trending topics and may help in marketing strategies, \n",
        "# stock market fluctutations(Ex: Elon Musk antics), political inclinations and other domains \n",
        "\n",
        "tweets.select(F.explode(tweets.entities.hashtags.text).alias(\"hashtag\"))\\\n",
        "      .groupby(\"hashtag\").count().sort(F.desc(\"count\"))\\\n",
        "      .show()"
      ]
    },
    {
      "cell_type": "markdown",
      "metadata": {
        "id": "KYqpssb-yE8a"
      },
      "source": [
        "## (20 points) Hubs and Authorities by Hand\n",
        "\n",
        "Consider the following graph (in adjacency list format):\n",
        "\n",
        "* A: B, D (that is, A links to B and to D)\n",
        "* B: D, E\n",
        "* C: D, E\n",
        "* D: F, G\n",
        "* E: C, D, G, H\n",
        "* F: \n",
        "* G: \n",
        "* H: C, G\n",
        "\n",
        "Find the hub and authority score for each node. Please normalize your final scores so they sum to 1."
      ]
    },
    {
      "cell_type": "markdown",
      "metadata": {
        "id": "n4vm-2xxy6qt"
      },
      "source": [
        "https://drive.google.com/drive/folders/1jQmigV5OdoNYem0wPaY5_SlL5lh7XEKm?usp=sharing"
      ]
    },
    {
      "cell_type": "markdown",
      "metadata": {
        "id": "9hxh70yrxS50"
      },
      "source": [
        "## (25 points) LSH Problems from the Book\n",
        "\n",
        "From MMDS [Chapter 3](http://infolab.stanford.edu/~ullman/mmds/ch3n.pdf), do the following problems:\n",
        "\n",
        "* Exercise 3.1.2 (Page 78)\n",
        "* Exercise 3.2.2 (Page 81)\n",
        "* Exercise 3.3.3 (Page 90)\n",
        "* Exercise 3.4.1 (Page 96)\n",
        "* Exercise 3.4.2 (Page 96)\n",
        "\n",
        "Please add cells below with your answers (explanation and detail of calculation are required). \n"
      ]
    },
    {
      "cell_type": "markdown",
      "source": [
        "#Question 3.1.2\n",
        "https://drive.google.com/drive/folders/1d2-7Vpa7KfT9kTaLqHf97OToMbSzVoHk?usp=sharing\n",
        "\n",
        "#Question 3.2.2\n",
        "https://drive.google.com/drive/folders/1KbHunYyDKQ7ipSPB6t-mJFF9_fafTeep?usp=sharing\n",
        "\n",
        "#Question 3.3.3\n",
        "https://drive.google.com/drive/folders/1zM7XMW1Mf21iyw9k5IuaHyqIdJg40Ubt?usp=sharing"
      ],
      "metadata": {
        "id": "7hwMHVj7mxWf"
      }
    },
    {
      "cell_type": "code",
      "source": [
        "#Question 3.4.1\n",
        "\n",
        "import numpy as np\n",
        "import matplotlib.pyplot as plt\n",
        "\n",
        "s = [0.1, 0.2, 0.3, 0.4, 0.5, 0.6, 0.7, 0.8, 0.9]\n",
        "\n",
        "def calculate_sCurveVals(b,r):\n",
        "  for si in s:\n",
        "    sCurveVal = 1 - pow((1 - pow(si,r)),b)\n",
        "    sCurveVals.append(sCurveVal)\n",
        "  return sCurveVals\n",
        "\n",
        "def print_SCurveVals(slen, sCurveVals):\n",
        "  for i in range(slen):\n",
        "    print(s[i], '->',sCurveVals[i], end=' | ')\n",
        "\n",
        "\n",
        "# For r = 3, b = 10\n",
        "r = 3\n",
        "b = 10\n",
        "sCurveVals = []\n",
        "\n",
        "print('r = 3, b = 10')\n",
        "sCurveVals = calculate_sCurveVals(10,3)\n",
        "print_SCurveVals(len(s), sCurveVals)\n",
        "\n",
        "plt.plot(np.array(s), np.array(sCurveVals), marker='x')\n",
        "plt.xlabel('s')\n",
        "plt.ylabel('probability')\n",
        "plt.title('r = 3, b = 10')\n",
        "plt.show()\n",
        "\n",
        "# For r = 6, b = 20\n",
        "r = 6\n",
        "b = 20\n",
        "sCurveVals = []\n",
        "\n",
        "print('r = 6, b = 20')\n",
        "sCurveVals = calculate_sCurveVals(20,6)\n",
        "print_SCurveVals(len(s), sCurveVals)\n",
        "\n",
        "plt.plot(np.array(s), np.array(sCurveVals), marker='x')\n",
        "plt.xlabel('s')\n",
        "plt.ylabel('probability')\n",
        "plt.title('r = 6, b = 20')\n",
        "plt.show()\n",
        "\n",
        "# For r = 5, b = 50\n",
        "r = 5\n",
        "b = 50\n",
        "sCurveVals = []\n",
        "\n",
        "print('r = 5, b = 50')\n",
        "sCurveVals = calculate_sCurveVals(50,5)\n",
        "print_SCurveVals(len(s), sCurveVals)\n",
        "\n",
        "plt.plot(np.array(s), np.array(sCurveVals), marker='x')\n",
        "plt.xlabel('s')\n",
        "plt.ylabel('probability')\n",
        "plt.title('r = 5, b = 50')\n",
        "plt.show()\n"
      ],
      "metadata": {
        "id": "lyN4vFt57nkL",
        "colab": {
          "base_uri": "https://localhost:8080/",
          "height": 975
        },
        "outputId": "27780ac1-61a0-4b1e-a315-e726a8d3fe4c"
      },
      "execution_count": 64,
      "outputs": [
        {
          "output_type": "stream",
          "name": "stdout",
          "text": [
            "r = 3, b = 10\n",
            "0.1 -> 0.009955119790251765 | 0.2 -> 0.07718058804273675 | 0.3 -> 0.23944889319887064 | 0.4 -> 0.4838707317677322 | 0.5 -> 0.7369244238361716 | 0.6 -> 0.9122674753991765 | 0.7 -> 0.985015105295655 | 0.8 -> 0.9992340538808936 | 0.9 -> 0.9999978635491371 | "
          ]
        },
        {
          "output_type": "display_data",
          "data": {
            "image/png": "[encoded data removed]",
            "text/plain": [
              "<Figure size 432x288 with 1 Axes>"
            ]
          },
          "metadata": {
            "needs_background": "light"
          }
        },
        {
          "output_type": "stream",
          "name": "stdout",
          "text": [
            "r = 6, b = 20\n",
            "0.1 -> 1.9999810001669616e-05 | 0.2 -> 0.001279222058761964 | 0.3 -> 0.014479466504172311 | 0.4 -> 0.07880932311056232 | 0.5 -> 0.27018714400947597 | 0.6 -> 0.6154146360312677 | 0.7 -> 0.9181859965846741 | 0.8 -> 0.9977121251546806 | 0.9 -> 0.9999997398129465 | "
          ]
        },
        {
          "output_type": "display_data",
          "data": {
            "image/png": "[encoded data removed]",
            "text/plain": [
              "<Figure size 432x288 with 1 Axes>"
            ]
          },
          "metadata": {
            "needs_background": "light"
          }
        },
        {
          "output_type": "stream",
          "name": "stdout",
          "text": [
            "r = 5, b = 50\n",
            "0.1 -> 0.0004998775195954597 | 0.2 -> 0.01587519984502117 | 0.3 -> 0.11453988231042189 | 0.4 -> 0.4022839522088044 | 0.5 -> 0.7955506304323648 | 0.6 -> 0.9825338277068608 | 0.7 -> 0.9998989958361557 | 0.8 -> 0.9999999976077777 | 0.9 -> 1.0 | "
          ]
        },
        {
          "output_type": "display_data",
          "data": {
            "image/png": "[encoded data removed]",
            "text/plain": [
              "<Figure size 432x288 with 1 Axes>"
            ]
          },
          "metadata": {
            "needs_background": "light"
          }
        }
      ]
    },
    {
      "cell_type": "markdown",
      "source": [
        "#Question 3.4.2\n",
        "\n",
        "https://drive.google.com/drive/folders/1mQqFCuOiFviiGlskoJIZcqXrqFGNAWZG?usp=sharing\n"
      ],
      "metadata": {
        "id": "7qzsTl4MvAzl"
      }
    },
    {
      "cell_type": "code",
      "source": [
        ""
      ],
      "metadata": {
        "id": "3rttGCkTvXJA"
      },
      "execution_count": null,
      "outputs": []
    }
  ],
  "metadata": {
    "colab": {
      "collapsed_sections": [],
      "name": "homework_2.ipynb",
      "provenance": []
    },
    "kernelspec": {
      "display_name": "Python 3",
      "language": "python",
      "name": "python3"
    },
    "language_info": {
      "codemirror_mode": {
        "name": "ipython",
        "version": 3
      },
      "file_extension": ".py",
      "mimetype": "text/x-python",
      "name": "python",
      "nbconvert_exporter": "python",
      "pygments_lexer": "ipython3",
      "version": "3.8.8"
    }
  },
  "nbformat": 4,
  "nbformat_minor": 0
}